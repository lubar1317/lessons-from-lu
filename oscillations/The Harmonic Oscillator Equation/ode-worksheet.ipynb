{
 "cells": [
  {
   "cell_type": "markdown",
   "id": "9403d06a",
   "metadata": {},
   "source": [
    "# Modeling an ODE with Constant Coefficients\n",
    "\n",
    "In this notebook you will explore the homogeneous and inhomogeneous solutions to a second-order ordinary differential equation. Read the following sections and answer the questions as you go along. Try your best to answer the questions before looking for other resources, as figuring out the answer ensures that you remember it better in the future.\n",
    "\n",
    "## The Harmonic Oscillator Equation\n",
    "\n",
    "We will explore the differential equation corresponding to a damped harmonic oscillator: \n",
    "\n",
    "\\begin{equation}\n",
    "    \\alpha \\frac{\\text{d}^2q}{\\text{d}t^2} + \\gamma \\frac{\\text{d}q}{\\text{d}t} + \\kappa q = 0,\n",
    "\\end{equation} \n",
    "\n",
    "where $q(t)$ is a time dependent quantity such as current or position, and $\\alpha, \\gamma$ and $\\kappa$ are constants that determine the behavior of the system. In the case of engineering, these constants are determined by the physics of the system. This second-order equation is of immense importance when we are analyzing physical systems that exhibit some sort of periodic motion around an equilibrium point.\n",
    "\n",
    "### A few simple cases\n",
    "\n",
    "Before we proceed solving Equation 1, let's first consider a few special cases that can shed some light onto the solutions we will find. \n",
    "\n",
    "#### The exponential solution\n",
    "\n",
    "Let $\\alpha = 0$. Then we get the first order differential equation\n",
    "\n",
    "\\begin{align*}\n",
    "   \\gamma \\frac{\\text{d}q}{\\text{d}t} + \\kappa q = 0.\n",
    "\\end{align*}\n",
    "\n",
    "The solution is \n",
    "\n",
    "\\begin{align*}\n",
    "    q(t) = q_0 e^{-\\frac{\\kappa}{\\gamma} t},\n",
    "\\end{align*}\n",
    "\n",
    "which can be either a growing or decaying exponential depending on the sign of $\\kappa$. This equation can arise in the analysis of RC circuits, with $\\gamma = C$ being the capacitance and $\\kappa = \\frac{1}{R}$ the inverse resistance.\n"
   ]
  },
  {
   "cell_type": "markdown",
   "id": "e8d8b8a7",
   "metadata": {},
   "source": []
  }
 ],
 "metadata": {
  "kernelspec": {
   "display_name": "Python 3",
   "language": "python",
   "name": "python3"
  },
  "language_info": {
   "name": "python",
   "version": "3.13.3"
  }
 },
 "nbformat": 4,
 "nbformat_minor": 5
}
