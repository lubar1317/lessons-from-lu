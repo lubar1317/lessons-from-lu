{
 "cells": [
  {
   "cell_type": "markdown",
   "id": "42eec865",
   "metadata": {},
   "source": [
    "## A classic problem\n",
    "\n",
    "Here I'm going to consider the half-pipe problem seen in Classical Mechanics by Taylor, Example 1.2. It consists of a skateboard in a semicircular half-pipe that is released at some angle $\\phi$ from equilibrium position. This problem is analogous to many others in classical mechanics, like the simple pendulum problem, a mass on a spring, etc. For the moment, we'll neglect friction. \n",
    "\n",
    "Through a straightforward analysis of the forces, we can arrive at the equation of motion for the angle the skateboard makes with the bottom of the pipe:\n",
    "\n",
    "\\begin{equation} \\tag{1}\n",
    "\\ddot{\\phi} = -\\frac{g}{R}\\sin (\\phi)\n",
    "\\end{equation}\n",
    "\n",
    "where $g$ is the gravitational constant, and $R$ is the radius of the pipe. \n",
    "\n",
    "This differential equation has no solution in terms of commonly known elementary functions (though complex analysis says otherwise - see \n",
    "[this](https://mathworld.wolfram.com/JacobiEllipticFunctions.html) and [this](https://en.wikipedia.org/wiki/Jacobi_elliptic_functions#Jacobi_elliptic_functions_as_solutions_of_nonlinear_ordinary_differential_equations)).\n",
    "However, using the small angle approximation, we can approximate the sine as $\\sin(\\phi) \\approx \\phi$, so that the equation becomes\n",
    "\n",
    "\\begin{equation} \\tag{2}\n",
    "\\ddot{\\phi} = - \\frac{g}{R}\\phi\n",
    "\\end{equation}\n",
    "\n",
    "This has the well-known solution consisting of sines and cosines: $\\phi(t) = A\\sin(\\omega_0 t) + B\\cos(\\omega_0 t)$, with $A$ and $B$ being constants determined by the boundary conditions of the system, and $\\omega_0^2 = \\frac{g}{R}$ being the natural frequency of oscillations. \n",
    "\n",
    "In the following, I will be using numerical integration (Runge Kutta 4) to compare the solution provided by the small angle approximation from Equation 2 to the numerical solution to the nonlinear Equation 1. "
   ]
  },
  {
   "cell_type": "code",
   "execution_count": 1,
   "id": "edee47f4",
   "metadata": {},
   "outputs": [],
   "source": [
    "import numpy as np\n",
    "import sympy as sp\n",
    "import scipy as sc\n",
    "import matplotlib.pyplot as plt\n",
    "import ipywidgets as wd"
   ]
  },
  {
   "cell_type": "code",
   "execution_count": null,
   "id": "3df01e49",
   "metadata": {},
   "outputs": [],
   "source": []
  }
 ],
 "metadata": {
  "kernelspec": {
   "display_name": "base",
   "language": "python",
   "name": "python3"
  },
  "language_info": {
   "codemirror_mode": {
    "name": "ipython",
    "version": 3
   },
   "file_extension": ".py",
   "mimetype": "text/x-python",
   "name": "python",
   "nbconvert_exporter": "python",
   "pygments_lexer": "ipython3",
   "version": "3.12.4"
  }
 },
 "nbformat": 4,
 "nbformat_minor": 5
}
