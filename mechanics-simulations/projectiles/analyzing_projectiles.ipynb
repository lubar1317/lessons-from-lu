{
 "cells": [
  {
   "cell_type": "markdown",
   "id": "d35cdcd0",
   "metadata": {},
   "source": [
    "## Analyzing Projectiles\n",
    "\n",
    "This notebook will consider the motion of simple projectiles traveling in two dimensions through dragless, linear, and quadratic drag media. "
   ]
  },
  {
   "cell_type": "markdown",
   "id": "45d5dd91",
   "metadata": {},
   "source": []
  }
 ],
 "metadata": {
  "language_info": {
   "name": "python"
  }
 },
 "nbformat": 4,
 "nbformat_minor": 5
}
