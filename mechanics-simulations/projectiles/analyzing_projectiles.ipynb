{
 "cells": [
  {
   "cell_type": "markdown",
   "id": "d35cdcd0",
   "metadata": {},
   "source": [
    "## Analyzing Projectiles\n",
    "\n",
    "This notebook will consider the motion of simple projectiles traveling in two dimensions through dragless, linear, and quadratic drag media. It will consist of interactive widgets for users to explore this sort of system in different situations, accompanied as well by animated simulations. As such, the user should be able to compare the motions of the projectiles through different media. In the end, I hope for it to be come a useful teaching and learning tool, both from the physics and the programming standpoint."
   ]
  },
  {
   "cell_type": "markdown",
   "id": "45d5dd91",
   "metadata": {},
   "source": []
  }
 ],
 "metadata": {
  "language_info": {
   "name": "python"
  }
 },
 "nbformat": 4,
 "nbformat_minor": 5
}
