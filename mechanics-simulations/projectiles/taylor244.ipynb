{
 "cells": [
  {
   "cell_type": "markdown",
   "id": "b9beb56a",
   "metadata": {},
   "source": [
    "I will now work on problem 2.44 from Taylor, where we're given a drag force that depends on height due to variations in air density in the atmosphere do to height. Here we have the drag force $f(v, y) = \\gamma D^2 e^{-y/\\lambda}v^2$, $\\lambda \\approx 10,000$ m. The diameter of the cannonball is $D = 0.15 m$, its density is $7.8 \\text{ g/cm}^3$, $\\gamma = 0.25 \\text{ Ns}^2/\\text{m}^4$. \n",
    "\n",
    "The equations of motion are: \n",
    "\n",
    "\\begin{align*}\n",
    "m \\dot{\\mathbf{v}} &= m\\mathbf{g} - \\gamma D^2 e^{-y/\\lambda}v^2 \\hat{\\mathbf{v}} \\\\\n",
    "&= m\\mathbf{g} - \\gamma D^2 e^{-y/\\lambda}v \\mathbf{v}\n",
    "\\end{align*}\n",
    "\n",
    "It follows that  \n",
    "\n",
    "\\begin{align*}\n",
    "m \\dot{v}_x &= - \\gamma D^2 e^{-y/ \\lambda}v v_x \\\\\n",
    "m \\dot{v}_y &= -mg - \\gamma D^2 e^{-y/ \\lambda}v v_y\n",
    "\\end{align*}\n",
    "\n",
    "To solve this, we will follow a similar method as above, letting the state function \n",
    "\n",
    "\\begin{align*}\n",
    "\\mathbf{f}(\\dot{x}, \\dot{y}, y, t) = \n",
    "\\begin{bmatrix}\n",
    "\\ddot{x}(\\dot{x}, \\dot{y}, y, t) \\\\\n",
    "\\ddot{y}(\\dot{x}, \\dot{y}, y, t)\n",
    "\\end{bmatrix}\n",
    "=\n",
    "\\begin{bmatrix}\n",
    "-\\frac{\\gamma}{m} D^2 e^{-y/ \\lambda} \\sqrt{\\dot{x}^2+\\dot{y}^2} \\dot{x} \\\\\n",
    "-g -\\frac{\\gamma}{m} D^2 e^{-y/ \\lambda}\\sqrt{\\dot{x}^2+\\dot{y}^2} \\dot{y}\n",
    "\\end{bmatrix}\n",
    "\\end{align*}\n",
    "\n",
    "Here we will be expressing the velocities in terms of the launch angle $\\theta$ and a velocity $v$. Where $v_x = v \\cos \\theta$ and $v_y = v \\sin \\theta$."
   ]
  },
  {
   "cell_type": "code",
   "execution_count": null,
   "id": "48575caf",
   "metadata": {},
   "outputs": [],
   "source": [
    "import numpy as np\n",
    "import sympy as sp\n",
    "import scipy as sc\n",
    "import matplotlib.pyplot as plt\n",
    "import ipywidgets as wd\n",
    "import matplotlib.animation as animation\n",
    "%matplotlib widget\n",
    "\n",
    "def rk4(A, B, q0, t, h, params):\n",
    "\n",
    "    #this function will determine the solution to the \n",
    "    #equation given by the state vector above\n",
    "    g, beta, lam = params\n",
    "    \n",
    "    #for q, rows are the x, vx, y, vy; cols are these at \n",
    "    #subsequent time steps\n",
    "    q = np.zeros(len(B), len(t)) #length of B sets dimension of the system\n",
    "    q[:, 0] = q0 #set the initial conditions\n",
    "    G = -g*np.array([0,0,0,1])\n",
    "    x, vx, y, vy = q0\n",
    "\n",
    "\n",
    "    for i in range(len(t)-1):\n",
    "\n",
    "        k1 = A @ q[:, i] + B*gamma(params[0], q[0,i], t) + G\n",
    "        y1 = q[:, i] + k1*h/2\n",
    "\n",
    "        k2 = A @ y1 + B*gamma(params[0], q[0,i], t) + G\n",
    "        y2 = q[:, i] + k2*h/2\n",
    "\n",
    "        k3 = A @ y2 + B*gamma(params[0], q[0,i], t) + G\n",
    "        y3 = q[:, i] + k3*h\n",
    "\n",
    "        k4 = A @ y3 + B*gamma(params[0], q[0,i], t) + G\n",
    "        q[:, i+1] = q[:, i] + (k1 + 2*k2 + 2*k3 + k4)*h/6\n",
    "    return q\n"
   ]
  },
  {
   "cell_type": "code",
   "execution_count": 24,
   "id": "3717112b",
   "metadata": {},
   "outputs": [
    {
     "name": "stdout",
     "output_type": "stream",
     "text": [
      "[[ 1  2  3]\n",
      " [ 4  5  6]\n",
      " [ 7  8  9]\n",
      " [10 11 12]]\n",
      "[ 1  4  7 10]\n"
     ]
    }
   ],
   "source": [
    "arr = np.array([[1,2,3], \n",
    "          [4,5,6],\n",
    "          [7,8,9], \n",
    "          [10,11,12]])\n",
    "\n",
    "print(arr)\n",
    "print(arr[:,0])"
   ]
  },
  {
   "cell_type": "code",
   "execution_count": null,
   "id": "3a508439",
   "metadata": {},
   "outputs": [],
   "source": []
  }
 ],
 "metadata": {
  "kernelspec": {
   "display_name": "Python 3",
   "language": "python",
   "name": "python3"
  },
  "language_info": {
   "codemirror_mode": {
    "name": "ipython",
    "version": 3
   },
   "file_extension": ".py",
   "mimetype": "text/x-python",
   "name": "python",
   "nbconvert_exporter": "python",
   "pygments_lexer": "ipython3",
   "version": "3.13.3"
  }
 },
 "nbformat": 4,
 "nbformat_minor": 5
}
