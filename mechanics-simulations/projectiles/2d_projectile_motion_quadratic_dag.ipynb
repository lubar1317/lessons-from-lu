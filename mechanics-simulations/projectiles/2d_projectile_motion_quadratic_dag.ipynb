{
 "cells": [
  {
   "cell_type": "markdown",
   "id": "47eede03",
   "metadata": {},
   "source": [
    "## Two-dimensional projectile motion with quadratic drag\n",
    "\n",
    "In this notebook, I will be considering the numerical solution to the equations of motion concerning the 2D trajectory of a projectile moving through a medium that exerts a quadratic drag force on it. For such a situation, we can express Newton's laws of motion as: \n",
    "\n",
    "\\begin{align*}\n",
    "\\mathbf{F} = m\\ddot{\\mathbf{x}} = m \\dot{\\mathbf{v}} = \n",
    "\\begin{bmatrix}\n",
    "-\\beta v v_x \\\\\n",
    "-mg -\\beta v v_y\n",
    "\\end{bmatrix}\n",
    "\\end{align*}\n",
    "\n",
    "where $v = v(v_x, v_y) = \\sqrt{v_x^2+v_y^2}$, $\\beta$ is the quadratic drag coefficient, $g$ is the gravitational constant, and $m$ is the mass of the system. This is a first order coupled differential equation, with $\\dot{v}_x = f(v_x, v_y, t)$ and $\\dot{v}_y = g(v_x, v_y, t)$.\n",
    "\n",
    "To solve this, we can define the state function $\\mathbf{f}$\n",
    "\n",
    "\n",
    "\\begin{align*}\n",
    "\\mathbf{f}(v_x, v_y, t) = \n",
    "\\begin{bmatrix}\n",
    "f(v_x, v_y, t) \\\\\n",
    "g(v_x, v_y, t)\n",
    "\\end{bmatrix}\n",
    "=\n",
    "\\begin{bmatrix}\n",
    "-\\frac{\\beta}{m} \\sqrt{v_x^2+v_y^2} v_x \\\\\n",
    "-g -\\frac{\\beta}{m} \\sqrt{v_x^2+v_y^2} v_y\n",
    "\\end{bmatrix}\n",
    "\\end{align*}\n",
    "\n",
    "This function can then be fed into our scipy.integrate.ivp_solve function in order to solve for the velocity.\n",
    "\n",
    "Finally, to get the position $\\mathbf{x}(t)$, we can integrate our velocity:\n",
    "\n",
    "\\begin{align*}\n",
    "\\mathbf{x}(t) = \\int_{t_0}^t \\mathbf{v}(t') dt' \\simeq \n",
    "\\sum_{i = 1}^N \\mathbf{v}_i \\Delta t_i\n",
    "\\end{align*}\n",
    "\n",
    "In the last step, we express the computed velocities as $\\mathbf{v}_i = \\begin{bmatrix} v_{xi} \\\\ v_yi \\end{bmatrix}$ determined at each time-step $\\Delta t_i$ from our Runge Kutta method. This integral can be computed using a cumulative trapezoidal or cumulative Simpsom algorithm from scipy.integrate."
   ]
  },
  {
   "cell_type": "code",
   "execution_count": 1,
   "id": "438b7368",
   "metadata": {},
   "outputs": [],
   "source": [
    "import numpy as np\n",
    "import sympy as sp\n",
    "import scipy as sc\n",
    "import matplotlib.pyplot as plt\n",
    "import ipywidgets as wd"
   ]
  },
  {
   "cell_type": "code",
   "execution_count": null,
   "id": "f0a3054c",
   "metadata": {},
   "outputs": [],
   "source": [
    "def stateFunction(t, vstar, beta, g, m):\n",
    "    vx, vy = vstar\n",
    "    vxDot = -(beta/m)*np.sqrt(vx**2 + vy**2)*vx\n",
    "    vyDot = -g - (beta/m)*np.sqrt(vx**2 + vy**2)*vy\n",
    "    return [vxDot, vyDot]\n",
    "\n",
    "def integrateVelocity(t, vel, r0):\n",
    "    x0, y0 = r0\n",
    "    vx, vy = vel\n",
    "    xOfT = x0 + sc.integrate."
   ]
  }
 ],
 "metadata": {
  "kernelspec": {
   "display_name": "base",
   "language": "python",
   "name": "python3"
  },
  "language_info": {
   "codemirror_mode": {
    "name": "ipython",
    "version": 3
   },
   "file_extension": ".py",
   "mimetype": "text/x-python",
   "name": "python",
   "nbconvert_exporter": "python",
   "pygments_lexer": "ipython3",
   "version": "3.12.4"
  }
 },
 "nbformat": 4,
 "nbformat_minor": 5
}
